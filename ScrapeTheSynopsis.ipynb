{
 "cells": [
  {
   "cell_type": "code",
   "execution_count": 1,
   "metadata": {},
   "outputs": [],
   "source": [
    "from bs4 import BeautifulSoup\n",
    "import requests\n",
    "import pandas as pd\n",
    "\n",
    "from pymongo import MongoClient\n",
    "import numpy as np\n",
    "import pandas as pd\n",
    "from tqdm import tqdm"
   ]
  },
  {
   "cell_type": "code",
   "execution_count": 2,
   "metadata": {},
   "outputs": [],
   "source": [
    "client = MongoClient('localhost:27017')\n",
    "db = client.Movie_User_db"
   ]
  },
  {
   "cell_type": "code",
   "execution_count": 3,
   "metadata": {},
   "outputs": [
    {
     "name": "stdout",
     "output_type": "stream",
     "text": [
      "0468569\n"
     ]
    }
   ],
   "source": [
    "def scrapeMovie(url):\n",
    "\t# get the imdbID\n",
    "\timdbId = url.split('/')[-2][2:]\n",
    "\n",
    "\t# request to main webpage\n",
    "\tresponse = requests.get(url)\n",
    "\tsource = response.text\n",
    "\tsoup = BeautifulSoup(source, 'lxml')\n",
    "\n",
    "\ttitle = soup.find('div', class_='title_wrapper')\n",
    "\tname = title.h1.text[:-8]\n",
    "\tyear = title.h1.a.text\n",
    "\n",
    "\ttime = title.find('div', class_='subtext').time.text.strip()\n",
    "\n",
    "\tgenres = title.find('div', class_='subtext').find_all('a')\n",
    "\tgenres.pop()\n",
    "\tfor i in range(len(genres)):\n",
    "\t\tgenres[i] = genres[i].text\n",
    "\n",
    "\tposter = soup.find('div', class_='poster').a.img['src']\n",
    "\n",
    "\trating = soup.find('div', class_='ratingValue').span.text\n",
    "\n",
    "\t# request to plot webpage\n",
    "\tresponse = requests.get(url+'plotsummary')\n",
    "\tsource = response.text\n",
    "\tsoup = BeautifulSoup(source, 'lxml')\n",
    "\n",
    "\tsummary = soup.find('ul', id='plot-summaries-content').li.p.text\n",
    "\n",
    "\t# Create and return dictionary\n",
    "\tjson = {'imdbId':imdbId, 'title':name, 'releaseYear':year, 'thumbnail':poster, 'imdbRating':rating, 'synopsis':summary, 'duration':time, 'genres':genres}\n",
    "\n",
    "\treturn json\n",
    "\n",
    "if __name__==\"__main__\":\n",
    "    # print(scrapeMovie(\"https://www.imdb.com/title/tt8108164/\"))\n",
    "\t# scrapeMovie(\"https://www.imdb.com/title/tt0468569/\")\n",
    "\tprint(\"https://www.imdb.com/title/tt0468569/\".split('/')[-2][2:])\n",
    "\n",
    "\n"
   ]
  },
  {
   "cell_type": "code",
   "execution_count": 9,
   "metadata": {},
   "outputs": [
    {
     "data": {
      "text/plain": [
       "{'imdbId': '0468569',\n",
       " 'title': 'The Dark Knight',\n",
       " 'releaseYear': '2008',\n",
       " 'thumbnail': 'https://m.media-amazon.com/images/M/MV5BMTMxNTMwODM0NF5BMl5BanBnXkFtZTcwODAyMTk2Mw@@._V1_UX182_CR0,0,182,268_AL__QL50.jpg',\n",
       " 'imdbRating': '9.0',\n",
       " 'synopsis': 'When the menace known as the Joker emerges from his mysterious past, he wreaks havoc and chaos on the people of Gotham. The Dark Knight must accept one of the greatest psychological and physical tests of his ability to fight injustice.',\n",
       " 'duration': '2h 32min',\n",
       " 'genres': ['Action', 'Crime', 'Drama']}"
      ]
     },
     "execution_count": 9,
     "metadata": {},
     "output_type": "execute_result"
    }
   ],
   "source": [
    "scrapeMovie(\"https://www.imdb.com/title/tt0468569/\")"
   ]
  },
  {
   "cell_type": "code",
   "execution_count": 4,
   "metadata": {},
   "outputs": [],
   "source": [
    "links_df = pd.read_csv(\"ml-latest-small/links.csv\", dtype=str)"
   ]
  },
  {
   "cell_type": "code",
   "execution_count": 5,
   "metadata": {},
   "outputs": [
    {
     "data": {
      "text/html": [
       "<div>\n",
       "<style scoped>\n",
       "    .dataframe tbody tr th:only-of-type {\n",
       "        vertical-align: middle;\n",
       "    }\n",
       "\n",
       "    .dataframe tbody tr th {\n",
       "        vertical-align: top;\n",
       "    }\n",
       "\n",
       "    .dataframe thead th {\n",
       "        text-align: right;\n",
       "    }\n",
       "</style>\n",
       "<table border=\"1\" class=\"dataframe\">\n",
       "  <thead>\n",
       "    <tr style=\"text-align: right;\">\n",
       "      <th></th>\n",
       "      <th>movieId</th>\n",
       "      <th>imdbId</th>\n",
       "      <th>tmdbId</th>\n",
       "    </tr>\n",
       "  </thead>\n",
       "  <tbody>\n",
       "    <tr>\n",
       "      <th>0</th>\n",
       "      <td>1</td>\n",
       "      <td>0114709</td>\n",
       "      <td>862</td>\n",
       "    </tr>\n",
       "    <tr>\n",
       "      <th>1</th>\n",
       "      <td>2</td>\n",
       "      <td>0113497</td>\n",
       "      <td>8844</td>\n",
       "    </tr>\n",
       "  </tbody>\n",
       "</table>\n",
       "</div>"
      ],
      "text/plain": [
       "  movieId   imdbId tmdbId\n",
       "0       1  0114709    862\n",
       "1       2  0113497   8844"
      ]
     },
     "execution_count": 5,
     "metadata": {},
     "output_type": "execute_result"
    }
   ],
   "source": [
    "links_df[:2]"
   ]
  },
  {
   "cell_type": "code",
   "execution_count": 6,
   "metadata": {},
   "outputs": [],
   "source": [
    "movies_df = pd.read_csv(\"moviesWithIndex.csv\")"
   ]
  },
  {
   "cell_type": "code",
   "execution_count": 10,
   "metadata": {},
   "outputs": [],
   "source": [
    "def fillDb():\n",
    "    for document in tqdm(db.movies.find()):\n",
    "        movieId = (document[\"location\"].split(\".\")[0])\n",
    "        movie = links_df.loc[links_df[\"movieId\"] == movieId]\n",
    "        a=(movie[\"imdbId\"])\n",
    "        a=(list(a)[0])\n",
    "        link = \"https://www.imdb.com/title/tt{}/\".format(a)\n",
    "        try:\n",
    "            scr = scrapeMovie(link)\n",
    "            synopsis = scr[\"synopsis\"]\n",
    "            duration = scr[\"duration\"]\n",
    "            db.synopsis.insert_one({\"location\": document[\"location\"], \"synopsis\": synopsis, \"duration\": duration})\n",
    "        except:\n",
    "            db.synopsis.insert_one({\"location\": document[\"location\"], \"synopsis\": \"\"})\n",
    "    #     print(synopsis)"
   ]
  },
  {
   "cell_type": "code",
   "execution_count": 11,
   "metadata": {},
   "outputs": [
    {
     "name": "stderr",
     "output_type": "stream",
     "text": [
      "334it [12:46,  2.30s/it]\n"
     ]
    }
   ],
   "source": [
    "fillDb()"
   ]
  },
  {
   "cell_type": "code",
   "execution_count": null,
   "metadata": {},
   "outputs": [],
   "source": []
  }
 ],
 "metadata": {
  "kernelspec": {
   "display_name": "Python 3",
   "language": "python",
   "name": "python3"
  },
  "language_info": {
   "codemirror_mode": {
    "name": "ipython",
    "version": 3
   },
   "file_extension": ".py",
   "mimetype": "text/x-python",
   "name": "python",
   "nbconvert_exporter": "python",
   "pygments_lexer": "ipython3",
   "version": "3.6.5"
  }
 },
 "nbformat": 4,
 "nbformat_minor": 2
}
