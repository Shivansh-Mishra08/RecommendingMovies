{
 "cells": [
  {
   "cell_type": "code",
   "execution_count": 9,
   "metadata": {},
   "outputs": [],
   "source": [
    "import numpy as np\n",
    "import pickle\n",
    "np.random.seed(0)"
   ]
  },
  {
   "cell_type": "code",
   "execution_count": 10,
   "metadata": {},
   "outputs": [],
   "source": [
    "with open(\"test.pickle\", \"rb\") as f:\n",
    "    test = pickle.load(f)"
   ]
  },
  {
   "cell_type": "code",
   "execution_count": 11,
   "metadata": {},
   "outputs": [],
   "source": [
    "with open(\"train.pickle\", \"rb\") as f:\n",
    "    train = pickle.load(f)"
   ]
  },
  {
   "cell_type": "code",
   "execution_count": 13,
   "metadata": {},
   "outputs": [],
   "source": [
    "with open(\"ratings.pickle\", \"rb\") as f:\n",
    "    ratings = pickle.load(f)"
   ]
  },
  {
   "cell_type": "code",
   "execution_count": 14,
   "metadata": {},
   "outputs": [],
   "source": [
    "temp = test\n",
    "\n",
    "test = train\n",
    "\n",
    "train = temp"
   ]
  },
  {
   "cell_type": "code",
   "execution_count": 15,
   "metadata": {},
   "outputs": [],
   "source": [
    "from sklearn.metrics import mean_squared_error\n",
    "def get_mse(pred, actual):\n",
    "    pred = pred[actual.nonzero()].flatten()\n",
    "    actual = actual[actual.nonzero()].flatten()\n",
    "    return mean_squared_error(pred, actual)"
   ]
  },
  {
   "cell_type": "code",
   "execution_count": 16,
   "metadata": {},
   "outputs": [
    {
     "data": {
      "text/plain": [
       "3.484741399995637"
      ]
     },
     "execution_count": 16,
     "metadata": {},
     "output_type": "execute_result"
    }
   ],
   "source": [
    "np.mean(test[np.where(test != 0)])"
   ]
  },
  {
   "cell_type": "code",
   "execution_count": 17,
   "metadata": {},
   "outputs": [],
   "source": [
    "def predict(global_bias, item_bias, user_bias, user_vectors, item_vectors, i, u):\n",
    "    prediction = global_bias + item_bias[i] + user_bias[u]\n",
    "    prediction += user_vectors[u,:].dot(item_vectors[i,:].T)\n",
    "    return prediction\n",
    "\n",
    "def predictAll(global_bias, item_bias, user_bias, user_vectors, item_vectors):\n",
    "    predictions = np.zeros((user_vectors.shape[0], item_vectors.shape[0]))\n",
    "    for u in range(user_vectors.shape[0]):\n",
    "        for i in range(item_vectors.shape[0]):\n",
    "            predictions[u, i] = predict(global_bias, item_bias, user_bias, user_vectors, item_vectors, i, u)\n",
    "                \n",
    "    return predictions\n",
    "\n",
    "def scd(ratings, learning_rate, item_bias_reg, user_bias_reg, item_fact_reg, user_fact_reg, iter_no,  n_factors = 40):\n",
    "    number_users, number_items = ratings.shape\n",
    "    user_vectors = np.random.normal(scale = 1./n_factors, size=(number_users, n_factors))\n",
    "    item_vectors = np.random.normal(scale = 1./n_factors, size=(number_items, n_factors))\n",
    "    row, column = np.nonzero(ratings)\n",
    "    numberOfItems = len(row)\n",
    "    indexes = np.arange(numberOfItems)\n",
    "    np.random.shuffle(indexes)\n",
    "    user_bias = np.zeros(number_users)\n",
    "    item_bias = np.zeros(number_items)\n",
    "    global_bias = np.mean(ratings[np.where(ratings != 0)])\n",
    "    for i in range(iter_no):\n",
    "        for idx in indexes:\n",
    "            u = row[idx]\n",
    "            i = column[idx]\n",
    "            prediction = predict(global_bias, item_bias, user_bias, user_vectors, item_vectors, i, u)\n",
    "            \n",
    "            e = ratings[u,i] - prediction\n",
    "            user_bias[u] += learning_rate*(e-user_bias_reg*user_bias[u])\n",
    "            item_bias[i] += learning_rate*(e-item_bias_reg*item_bias[i])\n",
    "            \n",
    "            user_vectors[u,:] += learning_rate*(e*item_vectors[i,:] - user_fact_reg*user_vectors[u,:])\n",
    "            item_vectors[i,:] += learning_rate*(e*user_vectors[u,:] - item_fact_reg*item_vectors[i,:])\n",
    "\n",
    "    return global_bias, item_bias, user_bias, user_vectors, item_vectors    "
   ]
  },
  {
   "cell_type": "code",
   "execution_count": 8,
   "metadata": {},
   "outputs": [
    {
     "data": {
      "text/plain": [
       "(610, 9742)"
      ]
     },
     "execution_count": 8,
     "metadata": {},
     "output_type": "execute_result"
    }
   ],
   "source": [
    "train.shape"
   ]
  },
  {
   "cell_type": "code",
   "execution_count": 18,
   "metadata": {},
   "outputs": [],
   "source": [
    "global_bias, item_bias, user_bias, user_vectors, item_vectors = scd(ratings, 0.0001, 1.0, 0.0, 1.0, 0.0, 1)"
   ]
  },
  {
   "cell_type": "code",
   "execution_count": 19,
   "metadata": {},
   "outputs": [
    {
     "data": {
      "text/plain": [
       "array([ 8.83994130e-03, -7.13455030e-04, -1.22542251e-03, ...,\n",
       "       -1.63545767e-08, -4.80705971e-07,  4.92384324e-05])"
      ]
     },
     "execution_count": 19,
     "metadata": {},
     "output_type": "execute_result"
    }
   ],
   "source": [
    "item_bias"
   ]
  },
  {
   "cell_type": "code",
   "execution_count": 20,
   "metadata": {},
   "outputs": [],
   "source": [
    "prediction = predictAll(global_bias, item_bias, user_bias, user_vectors, item_vectors)"
   ]
  },
  {
   "cell_type": "code",
   "execution_count": 21,
   "metadata": {},
   "outputs": [],
   "source": [
    "prediction = np.where(np.isnan(prediction), 0, prediction)\n",
    "\n",
    "prediction = np.where(np.isinf(prediction), 0, prediction)"
   ]
  },
  {
   "cell_type": "code",
   "execution_count": 22,
   "metadata": {
    "scrolled": true
   },
   "outputs": [
    {
     "data": {
      "text/plain": [
       "1.0520325492341702"
      ]
     },
     "execution_count": 22,
     "metadata": {},
     "output_type": "execute_result"
    }
   ],
   "source": [
    "get_mse(prediction, test)"
   ]
  },
  {
   "cell_type": "code",
   "execution_count": 156,
   "metadata": {},
   "outputs": [
    {
     "name": "stdout",
     "output_type": "stream",
     "text": [
      "counter no 1 got done\n",
      "counter no 2 got done\n",
      "counter no 3 got done\n",
      "counter no 4 got done\n",
      "counter no 5 got done\n",
      "counter no 6 got done\n",
      "CPU times: user 4min 43s, sys: 2.46 s, total: 4min 46s\n",
      "Wall time: 4min 44s\n"
     ]
    }
   ],
   "source": [
    "%%time\n",
    "counter = 0\n",
    "iterations = [1,2,5,10,50,100]\n",
    "training = []\n",
    "testing = []\n",
    "for iter_no in iterations:\n",
    "    global_bias, item_bias, user_bias, user_vectors, item_vectors = scd(train, 0.0001, 0.0, 0.0, 0.0, 0.0, iter_no)\n",
    "    prediction = predictAll(global_bias, item_bias, user_bias, user_vectors, item_vectors)\n",
    "    training.append(get_mse(prediction, train))\n",
    "    testing.append(get_mse(prediction, test))\n",
    "    counter += 1\n",
    "    print(f'counter no {counter} got done')"
   ]
  },
  {
   "cell_type": "code",
   "execution_count": 157,
   "metadata": {},
   "outputs": [
    {
     "data": {
      "text/plain": [
       "[1.0535658994967643,\n",
       " 1.0347872387231412,\n",
       " 1.002775193612296,\n",
       " 1.0047617354079206,\n",
       " 2.206389741423562,\n",
       " 21.520729082492487]"
      ]
     },
     "execution_count": 157,
     "metadata": {},
     "output_type": "execute_result"
    }
   ],
   "source": [
    "training"
   ]
  },
  {
   "cell_type": "code",
   "execution_count": 149,
   "metadata": {},
   "outputs": [
    {
     "data": {
      "text/plain": [
       "Text(0, 0.5, 'MSE')"
      ]
     },
     "execution_count": 149,
     "metadata": {},
     "output_type": "execute_result"
    },
    {
     "data": {
      "image/png": "[encoded data removed]",
      "text/plain": [
       "<Figure size 432x288 with 1 Axes>"
      ]
     },
     "metadata": {},
     "output_type": "display_data"
    }
   ],
   "source": [
    "import matplotlib.pyplot as plt\n",
    "plt.plot(iterations, training, label='train')\n",
    "plt.plot(iterations, testing, label='test')\n",
    "plt.legend(loc = 'best', fontsize=20)\n",
    "plt.xlabel('iterations', fontsize=30)\n",
    "plt.ylabel('MSE', fontsize=30)"
   ]
  },
  {
   "cell_type": "code",
   "execution_count": 162,
   "metadata": {},
   "outputs": [
    {
     "name": "stdout",
     "output_type": "stream",
     "text": [
      "counter no 1 got done\n",
      "counter no 2 got done\n",
      "counter no 3 got done\n",
      "counter no 4 got done\n",
      "counter no 5 got done\n",
      "CPU times: user 1min 59s, sys: 1.16 s, total: 2min\n",
      "Wall time: 1min 59s\n"
     ]
    }
   ],
   "source": [
    "%%time\n",
    "counter = 0\n",
    "k = [5,10,20,40,80]\n",
    "training_k = []\n",
    "testing_k = []\n",
    "for iter_no in k:\n",
    "    global_bias, item_bias, user_bias, user_vectors, item_vectors = scd(train, 0.0001, 0.0, 0.0, 0.0, 0.0, 10, iter_no)\n",
    "    prediction = predictAll(global_bias, item_bias, user_bias, user_vectors, item_vectors)\n",
    "    training_k.append(get_mse(prediction, train))\n",
    "    testing_k.append(get_mse(prediction, test))\n",
    "    counter += 1\n",
    "    print(f'counter no {counter} got done')"
   ]
  },
  {
   "cell_type": "code",
   "execution_count": 163,
   "metadata": {},
   "outputs": [
    {
     "data": {
      "text/plain": [
       "Text(0, 0.5, 'MSE')"
      ]
     },
     "execution_count": 163,
     "metadata": {},
     "output_type": "execute_result"
    },
    {
     "data": {
      "image/png": "[encoded data removed]",
      "text/plain": [
       "<Figure size 432x288 with 1 Axes>"
      ]
     },
     "metadata": {},
     "output_type": "display_data"
    }
   ],
   "source": [
    "import matplotlib.pyplot as plt\n",
    "plt.plot(k, training_k, label='train')\n",
    "plt.plot(k, testing_k, label='test')\n",
    "plt.legend(loc = 'best', fontsize=20)\n",
    "plt.xlabel('dimensions', fontsize=30)\n",
    "plt.ylabel('MSE', fontsize=30)"
   ]
  },
  {
   "cell_type": "code",
   "execution_count": 164,
   "metadata": {},
   "outputs": [
    {
     "data": {
      "text/plain": [
       "[1.1137717660571893,\n",
       " 1.1030952756719024,\n",
       " 1.0983904494837953,\n",
       " 1.0952019732534477,\n",
       " 1.101596906205597]"
      ]
     },
     "execution_count": 164,
     "metadata": {},
     "output_type": "execute_result"
    }
   ],
   "source": [
    "testing_k"
   ]
  },
  {
   "cell_type": "markdown",
   "metadata": {},
   "source": [
    "## we need 40 value of k\n",
    "## the iterations should be 10\n",
    "## the value of learning rate is 0.0001"
   ]
  },
  {
   "cell_type": "code",
   "execution_count": null,
   "metadata": {},
   "outputs": [],
   "source": []
  }
 ],
 "metadata": {
  "kernelspec": {
   "display_name": "Python 3",
   "language": "python",
   "name": "python3"
  },
  "language_info": {
   "codemirror_mode": {
    "name": "ipython",
    "version": 3
   },
   "file_extension": ".py",
   "mimetype": "text/x-python",
   "name": "python",
   "nbconvert_exporter": "python",
   "pygments_lexer": "ipython3",
   "version": "3.6.5"
  }
 },
 "nbformat": 4,
 "nbformat_minor": 2
}
