{
 "cells": [
  {
   "cell_type": "code",
   "execution_count": 1,
   "metadata": {},
   "outputs": [],
   "source": [
    "import pandas as pd\n",
    "import numpy as np\n",
    "import bs4 as bs\n",
    "import urllib.request\n",
    "\n",
    "movies_df = pd.read_csv(\"ml-latest-small/movies.csv\")\n",
    "\n",
    "links_df = pd.read_csv(\"ml-latest-small/links.csv\")\n",
    "\n",
    "links_df[-10:]\n",
    "\n",
    "movies_df[-10:]\n",
    "\n",
    "merged_df = movies_df.merge(links_df)\n",
    "\n",
    "merged_df[:10]\n",
    "\n",
    "del merged_df['tmdbId']\n",
    "\n",
    "movieLinks = {}\n",
    "\n",
    "links_array = []\n",
    "for i,j in zip(merged_df['imdbId'], merged_df['movieId']):\n",
    "    i = str(i)\n",
    "    while(len(i) != 7):\n",
    "        i = \"0\"+i\n",
    "#     print(\"hi i am out of while\")\n",
    "    movieLinks[j] = \"https://www.imdb.com/title/tt{}\".format(i)\n",
    "\n",
    "img_links = {}\n",
    "\n",
    "img_links\n",
    "\n",
    "import threading\n",
    "import urllib.request\n",
    "import time\n",
    "\n",
    "start = time.time()\n",
    "urls = links_array\n",
    "\n",
    "def fetch_url(url, movieId):\n",
    "    try:\n",
    "        source = urllib.request.urlopen(url).read()\n",
    "        soup = bs.BeautifulSoup(source, 'lxml')\n",
    "\n",
    "        img_links[movieId] = str(soup.findAll('div',{\"class\": \"poster\"})).split(\"src=\")[1].split(\"\\\"\")[1]\n",
    "\n",
    "        print (\"{} fetched in {}\".format(url, (time.time() - start)))\n",
    "    except:\n",
    "        print(\"hi i got the error {}\".format(url))\n",
    "        img_links[movieId] = None\n",
    "        return\n",
    "\n",
    "threads = [threading.Thread(target=fetch_url, args=(url,movieId)) for movieId, url in movieLinks.items()]\n",
    "for thread in threads:\n",
    "    thread.start()\n",
    "for thread in threads:\n",
    "    thread.join()\n",
    "\n",
    "print (\"Elapsed Time: {}\".format(time.time() - start))\n",
    "\n",
    "import pickle\n",
    "with open ('img_links.pickle', 'wb') as f:\n",
    "    pickle.dump(img_links, f)"
   ]
  },
  {
   "cell_type": "code",
   "execution_count": null,
   "metadata": {},
   "outputs": [],
   "source": [
    "\n",
    "\n",
    "for i in links_array:\n",
    "    source = urllib.request.urlopen(i).read()\n",
    "\n",
    "    soup = bs.BeautifulSoup(source, 'lxml')\n",
    "\n",
    "    img_links.append(str(soup.findAll('div',{\"class\": \"poster\"})).split(\"src=\")[1].split(\"\\\"\")[1])"
   ]
  },
  {
   "cell_type": "code",
   "execution_count": 28,
   "metadata": {},
   "outputs": [
    {
     "data": {
      "text/plain": [
       "['https://m.media-amazon.com/images/M/MV5BMDU2ZWJlMjktMTRhMy00ZTA5LWEzNDgtYmNmZTEwZTViZWJkXkEyXkFqcGdeQXVyNDQ2OTk4MzI@._V1_UX182_CR0,0,182,268_AL_.jpg',\n",
       " 'https://m.media-amazon.com/images/M/MV5BMDU2ZWJlMjktMTRhMy00ZTA5LWEzNDgtYmNmZTEwZTViZWJkXkEyXkFqcGdeQXVyNDQ2OTk4MzI@._V1_UX182_CR0,0,182,268_AL_.jpg']"
      ]
     },
     "execution_count": 28,
     "metadata": {},
     "output_type": "execute_result"
    }
   ],
   "source": [
    "img_links"
   ]
  },
  {
   "cell_type": "code",
   "execution_count": null,
   "metadata": {},
   "outputs": [],
   "source": []
  }
 ],
 "metadata": {
  "kernelspec": {
   "display_name": "Python 3",
   "language": "python",
   "name": "python3"
  },
  "language_info": {
   "codemirror_mode": {
    "name": "ipython",
    "version": 3
   },
   "file_extension": ".py",
   "mimetype": "text/x-python",
   "name": "python",
   "nbconvert_exporter": "python",
   "pygments_lexer": "ipython3",
   "version": "3.6.5"
  }
 },
 "nbformat": 4,
 "nbformat_minor": 2
}
